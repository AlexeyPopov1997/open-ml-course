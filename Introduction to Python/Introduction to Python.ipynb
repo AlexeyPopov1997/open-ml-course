{
 "cells": [
  {
   "cell_type": "markdown",
   "id": "563126cd",
   "metadata": {},
   "source": [
    "# Introduction to Python"
   ]
  },
  {
   "cell_type": "markdown",
   "id": "50647143",
   "metadata": {},
   "source": [
    "### 1. Sum of numbers\n",
    "\n",
    "Write code that calculates the sum of all numbers that satisfy the following conditions:\n",
    "* positive integers from 1 to 1_000_000_002 (one billion two) inclusive\n",
    "* which are completely (without remainder) divisible by 3 (example: 3, 6, 9, ...)\n",
    "* and which do not end with 4 and 7 (example of ending with 4 and 7: 24, 27, 54, 57...)\n",
    "\n",
    "Enter the result of the amount in the field below.\n",
    "\n",
    "In the field, you need to enter only the number that is the answer, without spaces or other characters."
   ]
  },
  {
   "cell_type": "code",
   "execution_count": 1,
   "id": "5da4cdcc",
   "metadata": {},
   "outputs": [
    {
     "name": "stdout",
     "output_type": "stream",
     "text": [
      "133333334466666672\n"
     ]
    }
   ],
   "source": [
    "print(sum(range(3, 1_000_000_003, 3)) - sum(range(24, 1_000_000_003, 30)) - sum(range(27, 1_000_000_003, 30)))"
   ]
  },
  {
   "cell_type": "markdown",
   "id": "03a5fa0c",
   "metadata": {},
   "source": [
    "### 2. Working with a Text File [Arithmetic Converter]\n",
    "\n",
    "The input is a text file of 3 thousand lines.\n",
    "\n",
    "**File format**:\n",
    "```\n",
    "\"arithmetic operation\" \"integer #1\" \"integer #2\"\n",
    "```\n",
    "\n",
    "Separator - 4 spaces.\n",
    "\n",
    "You need to prepare a text file of 1 line.\n",
    "The string contains a set of 3 thousand numbers separated by a comma.\n",
    "There is no comma after the last number.\n",
    "\n",
    "Each number is the result of an operation:\n",
    "```\n",
    "\"resulting integer\" = \"integer #1\" apply \"arithmetic operation\" \"integer #2\"*\n",
    "```\n",
    "\n",
    "**Input file example**:\n",
    "```\n",
    "+    5    4\n",
    "-    -10449    -7623\n",
    "**    2    10\n",
    "```\n",
    "\n",
    "**Output file example** (for the example input file above):\n",
    "```\n",
    "9,-2826,1024\n",
    "``` \n",
    "\n",
    "**Valid Operations**:\n",
    "``` \n",
    "+ (addition)\n",
    "- (subtraction)\n",
    "* (multiplication)\n",
    "// (integer division) (only positive numbers are supplied for this operation)\n",
    "% (remainder) (only positive numbers are supplied for this operation)\n",
    "** (exponentiation) (only positive numbers are supplied for this operation)\n",
    "``` \n",
    "    \n",
    "The input numbers are only integers.\n",
    "The output numbers are only integers."
   ]
  },
  {
   "cell_type": "code",
   "execution_count": 16,
   "id": "b8d50c80",
   "metadata": {},
   "outputs": [],
   "source": [
    "class Converter:\n",
    "    def __init__(self, input_file_name, output_file_name) -> None:\n",
    "        self.__output_file = open(output_file_name, 'w')\n",
    "        self.__results = []\n",
    "\n",
    "        with open(input_file_name) as input_file:\n",
    "            for line in input_file:\n",
    "                sign, value_1, value_2 = line.split()\n",
    "                self.__results.append(str(eval(value_1 + sign + value_2)))\n",
    "        \n",
    "        self.__output_file.write(','.join(self.__results))\n",
    "        self.__output_file.close()\n",
    "        \n",
    "    \n",
    "def main():\n",
    "    Converter('1/input_file.txt', '1/output_file.txt')\n",
    "    \n",
    "    \n",
    "if __name__ == '__main__':\n",
    "    main()\n"
   ]
  },
  {
   "cell_type": "markdown",
   "id": "d85c9b15",
   "metadata": {},
   "source": [
    "### 3. Working with a text file [Line slices]\n",
    "\n",
    "The input receives two text files of 3 thousand lines each.\n",
    "\n",
    "* The first file contains lines of text.\n",
    " \n",
    "* The second file contains strings of two non-negative integers.\n",
    "\n",
    "***\n",
    "*The first number in a string is always less than or equal to the second.*  \n",
    "*Numbers are always less than the length of the corresponding line in the first file.*  \n",
    "*Relevant - it means the 1st line from the 1st file matches the 1st line from the 2nd file, and the 123rd line from the 1st file matches the 123rd line from the 2nd file.*  \n",
    "***\n",
    "\n",
    "* Prepare an output file that consists of substrings of the 1st input file.\n",
    "***\n",
    "*Substrings are separated by spaces.*  \n",
    "*What substrings to take is written in the second file.*  \n",
    "*There is no space at the end of the file.*  \n",
    "***"
   ]
  },
  {
   "cell_type": "code",
   "execution_count": 17,
   "id": "5bf4dc95",
   "metadata": {},
   "outputs": [],
   "source": [
    "class Converter:\n",
    "    def __init__(self, input_file_name_str, input_file_name_int, output_file_name):\n",
    "        self.__output_file = open(output_file_name, 'w')\n",
    "        self.__results = []\n",
    "\n",
    "        with open(input_file_name_str) as input_file_str:\n",
    "            with open(input_file_name_int) as input_file_int:\n",
    "                for line_str, line_int in zip(input_file_str, input_file_int):\n",
    "                    start, end = line_int.split()\n",
    "                    self.__results.append(line_str[int(start):int(end) + 1])\n",
    "        \n",
    "        self.__output_file.write(' '.join(self.__results))\n",
    "        self.__output_file.close()\n",
    "        \n",
    "    \n",
    "def main():\n",
    "    Converter('2/import_file_2_1.txt', '2/import_file_2_2.txt', '2/output_file_2.txt')\n",
    "    \n",
    "    \n",
    "if __name__ == '__main__':\n",
    "    main()\n"
   ]
  },
  {
   "cell_type": "markdown",
   "id": "3e60fc02",
   "metadata": {},
   "source": [
    "### 4. Working with a text file [JSON]\n",
    "\n",
    "The input is a string.\n",
    "It stores a set of chemical symbols (He, O, H, Mg, Fe, ...). Without spaces.\n",
    "It is necessary to decipher chemical symbols into the name of chemical elements.\n",
    "For convenience, a json file is attached that maps a chemical symbol to its chemical name."
   ]
  },
  {
   "cell_type": "code",
   "execution_count": 18,
   "id": "a7ee3fd1",
   "metadata": {},
   "outputs": [],
   "source": [
    "class Converter:\n",
    "    def __init__(self, input_file_name, periodic_table_file_name, output_file_name):\n",
    "        import json\n",
    "\n",
    "        self.__input_file = open(input_file_name)\n",
    "        self.__periodic_table_file = open(periodic_table_file_name)\n",
    "        self.__output_file = open(output_file_name, 'w')\n",
    "\n",
    "        periodic_table = json.load(self.__periodic_table_file)\n",
    "        self.__periodic_table_file.close()\n",
    "\n",
    "        elements = self.__input_file.read()\n",
    "        self.__input_file.close()\n",
    "        \n",
    "        self.__output_file.write(''.join(map(lambda elemrnt: periodic_table[elemrnt], re.findall(r'[A-z][a-z]*', elements))))\n",
    "        self.__output_file.close()\n",
    "\n",
    "\n",
    "def main():\n",
    "    Converter('3/import_file_3.txt', '3/periodic_table.json', '3/output_file_3.txt')\n",
    "    \n",
    "    \n",
    "if __name__ == '__main__':\n",
    "    main()\n"
   ]
  }
 ],
 "metadata": {
  "interpreter": {
   "hash": "22549d2b59d973b2c587c489da9899ec25bcf6ba09211e1435ae237eab9ca654"
  },
  "kernelspec": {
   "display_name": "ml-course",
   "language": "python",
   "name": "ml-course"
  },
  "language_info": {
   "codemirror_mode": {
    "name": "ipython",
    "version": 3
   },
   "file_extension": ".py",
   "mimetype": "text/x-python",
   "name": "python",
   "nbconvert_exporter": "python",
   "pygments_lexer": "ipython3",
   "version": "3.9.7"
  }
 },
 "nbformat": 4,
 "nbformat_minor": 5
}
